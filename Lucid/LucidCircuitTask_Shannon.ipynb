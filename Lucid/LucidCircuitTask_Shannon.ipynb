{
 "cells": [
  {
   "cell_type": "markdown",
   "metadata": {},
   "source": [
    "# Lucid Circuit Task\n",
    "**Shannon Brownlee**\n",
    "- **Fall 2019** "
   ]
  },
  {
   "cell_type": "code",
   "execution_count": 1,
   "metadata": {},
   "outputs": [],
   "source": [
    "import pandas as pd\n",
    "import numpy as np"
   ]
  },
  {
   "cell_type": "code",
   "execution_count": 2,
   "metadata": {},
   "outputs": [],
   "source": [
    "# Importing data - needs to be changed based on where each person's data is stored\n",
    "ca = \"LucidCircuit/dat.csv\"\n",
    "tcs = \"LucidCircuit/curves.csv\""
   ]
  },
  {
   "cell_type": "code",
   "execution_count": 4,
   "metadata": {},
   "outputs": [],
   "source": [
    "# Formatting data to be used within the code and renaming each dataset\n",
    "data1 = pd.read_csv(ca)\n",
    "data2 = pd.read_csv(tcs)"
   ]
  },
  {
   "cell_type": "markdown",
   "metadata": {},
   "source": [
    "## Data Visualization\n",
    "It is useful to have a general way to visualize the given data before attempting to manipulate it or to use any machine learning models to make predictions based on it."
   ]
  },
  {
   "cell_type": "code",
   "execution_count": 5,
   "metadata": {},
   "outputs": [
    {
     "data": {
      "text/html": [
       "<div>\n",
       "<style scoped>\n",
       "    .dataframe tbody tr th:only-of-type {\n",
       "        vertical-align: middle;\n",
       "    }\n",
       "\n",
       "    .dataframe tbody tr th {\n",
       "        vertical-align: top;\n",
       "    }\n",
       "\n",
       "    .dataframe thead th {\n",
       "        text-align: right;\n",
       "    }\n",
       "</style>\n",
       "<table border=\"1\" class=\"dataframe\">\n",
       "  <thead>\n",
       "    <tr style=\"text-align: right;\">\n",
       "      <th></th>\n",
       "      <th>Arrest</th>\n",
       "      <th>Age_y</th>\n",
       "      <th>g1</th>\n",
       "      <th>g2</th>\n",
       "      <th>g3</th>\n",
       "      <th>g4</th>\n",
       "      <th>g5</th>\n",
       "      <th>g6</th>\n",
       "      <th>g7</th>\n",
       "      <th>g8</th>\n",
       "      <th>g9</th>\n",
       "      <th>g10</th>\n",
       "      <th>g11</th>\n",
       "    </tr>\n",
       "  </thead>\n",
       "  <tbody>\n",
       "    <tr>\n",
       "      <td>0</td>\n",
       "      <td>1</td>\n",
       "      <td>63</td>\n",
       "      <td>0</td>\n",
       "      <td>0</td>\n",
       "      <td>0</td>\n",
       "      <td>0</td>\n",
       "      <td>0</td>\n",
       "      <td>0</td>\n",
       "      <td>1</td>\n",
       "      <td>0</td>\n",
       "      <td>0</td>\n",
       "      <td>0</td>\n",
       "      <td>0</td>\n",
       "    </tr>\n",
       "    <tr>\n",
       "      <td>1</td>\n",
       "      <td>1</td>\n",
       "      <td>63</td>\n",
       "      <td>0</td>\n",
       "      <td>0</td>\n",
       "      <td>0</td>\n",
       "      <td>0</td>\n",
       "      <td>0</td>\n",
       "      <td>0</td>\n",
       "      <td>0</td>\n",
       "      <td>0</td>\n",
       "      <td>1</td>\n",
       "      <td>0</td>\n",
       "      <td>0</td>\n",
       "    </tr>\n",
       "    <tr>\n",
       "      <td>2</td>\n",
       "      <td>1</td>\n",
       "      <td>60</td>\n",
       "      <td>1</td>\n",
       "      <td>0</td>\n",
       "      <td>0</td>\n",
       "      <td>0</td>\n",
       "      <td>1</td>\n",
       "      <td>1</td>\n",
       "      <td>0</td>\n",
       "      <td>1</td>\n",
       "      <td>0</td>\n",
       "      <td>0</td>\n",
       "      <td>0</td>\n",
       "    </tr>\n",
       "    <tr>\n",
       "      <td>3</td>\n",
       "      <td>1</td>\n",
       "      <td>70</td>\n",
       "      <td>0</td>\n",
       "      <td>0</td>\n",
       "      <td>0</td>\n",
       "      <td>0</td>\n",
       "      <td>0</td>\n",
       "      <td>1</td>\n",
       "      <td>0</td>\n",
       "      <td>0</td>\n",
       "      <td>0</td>\n",
       "      <td>1</td>\n",
       "      <td>0</td>\n",
       "    </tr>\n",
       "    <tr>\n",
       "      <td>4</td>\n",
       "      <td>1</td>\n",
       "      <td>54</td>\n",
       "      <td>0</td>\n",
       "      <td>1</td>\n",
       "      <td>0</td>\n",
       "      <td>0</td>\n",
       "      <td>0</td>\n",
       "      <td>0</td>\n",
       "      <td>0</td>\n",
       "      <td>0</td>\n",
       "      <td>0</td>\n",
       "      <td>1</td>\n",
       "      <td>1</td>\n",
       "    </tr>\n",
       "  </tbody>\n",
       "</table>\n",
       "</div>"
      ],
      "text/plain": [
       "   Arrest  Age_y  g1  g2  g3  g4  g5  g6  g7  g8  g9  g10  g11\n",
       "0       1     63   0   0   0   0   0   0   1   0   0    0    0\n",
       "1       1     63   0   0   0   0   0   0   0   0   1    0    0\n",
       "2       1     60   1   0   0   0   1   1   0   1   0    0    0\n",
       "3       1     70   0   0   0   0   0   1   0   0   0    1    0\n",
       "4       1     54   0   1   0   0   0   0   0   0   0    1    1"
      ]
     },
     "execution_count": 5,
     "metadata": {},
     "output_type": "execute_result"
    }
   ],
   "source": [
    "# To view what the dataframe for data1 looks like\n",
    "data1.head()"
   ]
  },
  {
   "cell_type": "code",
   "execution_count": 6,
   "metadata": {
    "scrolled": true
   },
   "outputs": [
    {
     "data": {
      "text/html": [
       "<div>\n",
       "<style scoped>\n",
       "    .dataframe tbody tr th:only-of-type {\n",
       "        vertical-align: middle;\n",
       "    }\n",
       "\n",
       "    .dataframe tbody tr th {\n",
       "        vertical-align: top;\n",
       "    }\n",
       "\n",
       "    .dataframe thead th {\n",
       "        text-align: right;\n",
       "    }\n",
       "</style>\n",
       "<table border=\"1\" class=\"dataframe\">\n",
       "  <thead>\n",
       "    <tr style=\"text-align: right;\">\n",
       "      <th></th>\n",
       "      <th>V1</th>\n",
       "      <th>V2</th>\n",
       "      <th>V3</th>\n",
       "      <th>V4</th>\n",
       "      <th>V5</th>\n",
       "      <th>V6</th>\n",
       "      <th>V7</th>\n",
       "      <th>V8</th>\n",
       "      <th>V9</th>\n",
       "      <th>V10</th>\n",
       "      <th>...</th>\n",
       "      <th>V491</th>\n",
       "      <th>V492</th>\n",
       "      <th>V493</th>\n",
       "      <th>V494</th>\n",
       "      <th>V495</th>\n",
       "      <th>V496</th>\n",
       "      <th>V497</th>\n",
       "      <th>V498</th>\n",
       "      <th>V499</th>\n",
       "      <th>V500</th>\n",
       "    </tr>\n",
       "  </thead>\n",
       "  <tbody>\n",
       "    <tr>\n",
       "      <td>0</td>\n",
       "      <td>-0.714667</td>\n",
       "      <td>-0.897589</td>\n",
       "      <td>-0.529051</td>\n",
       "      <td>-0.464436</td>\n",
       "      <td>-0.567571</td>\n",
       "      <td>-0.679582</td>\n",
       "      <td>-0.473877</td>\n",
       "      <td>-0.393921</td>\n",
       "      <td>-0.229320</td>\n",
       "      <td>-0.713373</td>\n",
       "      <td>...</td>\n",
       "      <td>1.710186</td>\n",
       "      <td>1.315141</td>\n",
       "      <td>1.558143</td>\n",
       "      <td>1.188066</td>\n",
       "      <td>1.401991</td>\n",
       "      <td>1.469804</td>\n",
       "      <td>0.979407</td>\n",
       "      <td>1.496990</td>\n",
       "      <td>1.292152</td>\n",
       "      <td>1.389845</td>\n",
       "    </tr>\n",
       "    <tr>\n",
       "      <td>1</td>\n",
       "      <td>-0.617920</td>\n",
       "      <td>-0.695324</td>\n",
       "      <td>-0.339038</td>\n",
       "      <td>-0.251318</td>\n",
       "      <td>-0.024798</td>\n",
       "      <td>-0.106560</td>\n",
       "      <td>0.061924</td>\n",
       "      <td>-0.005979</td>\n",
       "      <td>-0.144702</td>\n",
       "      <td>0.038207</td>\n",
       "      <td>...</td>\n",
       "      <td>0.942037</td>\n",
       "      <td>1.075928</td>\n",
       "      <td>1.300646</td>\n",
       "      <td>1.035178</td>\n",
       "      <td>1.223987</td>\n",
       "      <td>1.183275</td>\n",
       "      <td>1.199120</td>\n",
       "      <td>0.655413</td>\n",
       "      <td>1.056601</td>\n",
       "      <td>0.971798</td>\n",
       "    </tr>\n",
       "    <tr>\n",
       "      <td>2</td>\n",
       "      <td>-0.652287</td>\n",
       "      <td>-0.447006</td>\n",
       "      <td>-0.650891</td>\n",
       "      <td>-0.484765</td>\n",
       "      <td>-0.390119</td>\n",
       "      <td>-0.486547</td>\n",
       "      <td>-0.493495</td>\n",
       "      <td>-0.610500</td>\n",
       "      <td>-0.191957</td>\n",
       "      <td>-0.967399</td>\n",
       "      <td>...</td>\n",
       "      <td>0.900975</td>\n",
       "      <td>0.747467</td>\n",
       "      <td>1.046727</td>\n",
       "      <td>1.108528</td>\n",
       "      <td>0.916690</td>\n",
       "      <td>1.061254</td>\n",
       "      <td>1.098566</td>\n",
       "      <td>1.436553</td>\n",
       "      <td>1.593959</td>\n",
       "      <td>1.615996</td>\n",
       "    </tr>\n",
       "    <tr>\n",
       "      <td>3</td>\n",
       "      <td>-2.062187</td>\n",
       "      <td>-1.836141</td>\n",
       "      <td>-2.031931</td>\n",
       "      <td>-1.687507</td>\n",
       "      <td>-1.324509</td>\n",
       "      <td>-1.602404</td>\n",
       "      <td>-1.879471</td>\n",
       "      <td>-1.622984</td>\n",
       "      <td>-1.473278</td>\n",
       "      <td>-1.291739</td>\n",
       "      <td>...</td>\n",
       "      <td>-0.473464</td>\n",
       "      <td>-0.363122</td>\n",
       "      <td>-0.550975</td>\n",
       "      <td>-0.689657</td>\n",
       "      <td>-0.620732</td>\n",
       "      <td>-0.372306</td>\n",
       "      <td>-0.742173</td>\n",
       "      <td>-0.411089</td>\n",
       "      <td>-0.923479</td>\n",
       "      <td>-0.769356</td>\n",
       "    </tr>\n",
       "    <tr>\n",
       "      <td>4</td>\n",
       "      <td>-0.478093</td>\n",
       "      <td>-0.522250</td>\n",
       "      <td>-0.232736</td>\n",
       "      <td>-0.564540</td>\n",
       "      <td>-1.016882</td>\n",
       "      <td>-1.101191</td>\n",
       "      <td>-0.658538</td>\n",
       "      <td>-0.791956</td>\n",
       "      <td>-1.169648</td>\n",
       "      <td>-1.581075</td>\n",
       "      <td>...</td>\n",
       "      <td>0.045517</td>\n",
       "      <td>-0.039422</td>\n",
       "      <td>0.117052</td>\n",
       "      <td>-0.021512</td>\n",
       "      <td>-0.046603</td>\n",
       "      <td>-0.233406</td>\n",
       "      <td>-0.222994</td>\n",
       "      <td>0.147450</td>\n",
       "      <td>-0.090553</td>\n",
       "      <td>0.211678</td>\n",
       "    </tr>\n",
       "  </tbody>\n",
       "</table>\n",
       "<p>5 rows × 500 columns</p>\n",
       "</div>"
      ],
      "text/plain": [
       "         V1        V2        V3        V4        V5        V6        V7  \\\n",
       "0 -0.714667 -0.897589 -0.529051 -0.464436 -0.567571 -0.679582 -0.473877   \n",
       "1 -0.617920 -0.695324 -0.339038 -0.251318 -0.024798 -0.106560  0.061924   \n",
       "2 -0.652287 -0.447006 -0.650891 -0.484765 -0.390119 -0.486547 -0.493495   \n",
       "3 -2.062187 -1.836141 -2.031931 -1.687507 -1.324509 -1.602404 -1.879471   \n",
       "4 -0.478093 -0.522250 -0.232736 -0.564540 -1.016882 -1.101191 -0.658538   \n",
       "\n",
       "         V8        V9       V10  ...      V491      V492      V493      V494  \\\n",
       "0 -0.393921 -0.229320 -0.713373  ...  1.710186  1.315141  1.558143  1.188066   \n",
       "1 -0.005979 -0.144702  0.038207  ...  0.942037  1.075928  1.300646  1.035178   \n",
       "2 -0.610500 -0.191957 -0.967399  ...  0.900975  0.747467  1.046727  1.108528   \n",
       "3 -1.622984 -1.473278 -1.291739  ... -0.473464 -0.363122 -0.550975 -0.689657   \n",
       "4 -0.791956 -1.169648 -1.581075  ...  0.045517 -0.039422  0.117052 -0.021512   \n",
       "\n",
       "       V495      V496      V497      V498      V499      V500  \n",
       "0  1.401991  1.469804  0.979407  1.496990  1.292152  1.389845  \n",
       "1  1.223987  1.183275  1.199120  0.655413  1.056601  0.971798  \n",
       "2  0.916690  1.061254  1.098566  1.436553  1.593959  1.615996  \n",
       "3 -0.620732 -0.372306 -0.742173 -0.411089 -0.923479 -0.769356  \n",
       "4 -0.046603 -0.233406 -0.222994  0.147450 -0.090553  0.211678  \n",
       "\n",
       "[5 rows x 500 columns]"
      ]
     },
     "execution_count": 6,
     "metadata": {},
     "output_type": "execute_result"
    }
   ],
   "source": [
    "# To view what the dataframe for data2 looks like\n",
    "data2.head()"
   ]
  },
  {
   "cell_type": "markdown",
   "metadata": {},
   "source": [
    "### To look at the data graphically, we'll plot some features with respect to cardiac arrest, since that's the main thing we're looking for."
   ]
  },
  {
   "cell_type": "code",
   "execution_count": 7,
   "metadata": {},
   "outputs": [],
   "source": [
    "import matplotlib.pyplot as plt\n",
    "from matplotlib import pyplot"
   ]
  },
  {
   "cell_type": "code",
   "execution_count": 8,
   "metadata": {},
   "outputs": [
    {
     "data": {
      "image/png": "[encoded data removed]",
      "text/plain": [
       "<Figure size 396x288 with 1 Axes>"
      ]
     },
     "metadata": {
      "needs_background": "light"
     },
     "output_type": "display_data"
    }
   ],
   "source": [
    "# Takes the average of the column \"Arrest,\" giving the percentage of people at each unique age within the data who have had cardiac arrest\n",
    "# Plots the percentage of people at each age who have had cardiac arrest as a scatter plot\n",
    "averages = []\n",
    "for a in data1['Age_y'].unique(): \n",
    "    ad = data1[data1[\"Age_y\"]==a]\n",
    "    count = ad[\"Arrest\"].sum()/len(ad)\n",
    "    averages.append(count)\n",
    "\n",
    "plt.rcParams[\"figure.figsize\"] = [5.5,4]\n",
    "fig, ax = plt.subplots()\n",
    "plt.plot(data1[\"Age_y\"].unique(),averages,'o')\n",
    "\n",
    "\n",
    "ax.set_xlabel('Age (years)', fontsize = 14)\n",
    "ax.set_ylabel(\"Fraction who Experienced Cardiac Arrest\", fontsize = 10)\n",
    "\n",
    "plt.title(\"Age vs. Percentage with Cardiac Arrest\", fontsize = 18)\n",
    "\n",
    "fig.tight_layout()\n",
    "\n",
    "plt.show()"
   ]
  },
  {
   "cell_type": "markdown",
   "metadata": {},
   "source": [
    "The scatter plot above is very difficult to interpret for any useful data, however. Below is the same data, but represented as a bar graph for better interpretations."
   ]
  },
  {
   "cell_type": "code",
   "execution_count": 9,
   "metadata": {},
   "outputs": [
    {
     "data": {
      "image/png": "[encoded data removed]",
      "text/plain": [
       "<Figure size 396x288 with 1 Axes>"
      ]
     },
     "metadata": {
      "needs_background": "light"
     },
     "output_type": "display_data"
    }
   ],
   "source": [
    "# Graphs as a bar graph the percentage of people within the data at each unique age who experienced cardiac arrest\n",
    "plt.rcParams[\"figure.figsize\"] = [5.5,4]\n",
    "fig, ax = plt.subplots()\n",
    "plt.bar(data1[\"Age_y\"].unique(),averages)\n",
    "\n",
    "\n",
    "ax.set_xlabel('Age (years)', fontsize = 14)\n",
    "ax.set_ylabel(\"Fraction who Experienced Cardiac Arrest\", fontsize = 10)\n",
    "\n",
    "plt.title(\"Age vs. Percentage with Cardiac Arrest\", fontsize = 18)\n",
    "\n",
    "fig.tight_layout()\n",
    "\n",
    "plt.show()"
   ]
  },
  {
   "cell_type": "markdown",
   "metadata": {},
   "source": [
    "While the bar graph above is more easily interpretable, there are many columns and gaps in the age range due to gaps in the data, making it more difficult to see any correlation between age and cardiac arrest in the given data. A meaningful way to interpret the age gaps in this data would be a histogram, shown below."
   ]
  },
  {
   "cell_type": "code",
   "execution_count": 10,
   "metadata": {
    "scrolled": false
   },
   "outputs": [
    {
     "data": {
      "image/png": "[encoded data removed]",
      "text/plain": [
       "<Figure size 396x288 with 1 Axes>"
      ]
     },
     "metadata": {
      "needs_background": "light"
     },
     "output_type": "display_data"
    }
   ],
   "source": [
    "# Histogram representation of above age distribution\n",
    "plt.hist(data1[\"Age_y\"])\n",
    "plt.xlabel(\"Age (years)\", fontsize=14)\n",
    "plt.ylabel(\"Distribution of Data\", fontsize=10)\n",
    "plt.xticks(np.arange(30, 90, step=10))\n",
    "plt.yticks([0,20,40,60,80,100])\n",
    "plt.grid(axis='y', alpha=0.75)\n",
    "plt.title('Distribution of Age Data', fontsize=16)\n",
    "plt.show()"
   ]
  },
  {
   "cell_type": "markdown",
   "metadata": {},
   "source": [
    "Looking at the histogram, it can be more easily seen that there are more data points for people in people within the age groups of 57-62 and 62-67. So, using this age data as a major prediction tool is risky since within the data there are significant gaps in age range, and many ages have a much lower (or even zero) incidence. The more data there is for a each age, or each age range, the more accurate a prediction based on ages will be; if, for instance, there is only one data point within the age range of 0-30 and that subject experienced cardiac arrest, the prediction for that age range will be 100% based on the data. The graphs above are almost certainly an inaccurate representation for the incidence of cardiac arrest within age ranges due to the incompleteness of the data. "
   ]
  },
  {
   "cell_type": "code",
   "execution_count": 11,
   "metadata": {},
   "outputs": [
    {
     "data": {
      "image/png": "[encoded data removed]",
      "text/plain": [
       "<Figure size 396x288 with 1 Axes>"
      ]
     },
     "metadata": {
      "needs_background": "light"
     },
     "output_type": "display_data"
    }
   ],
   "source": [
    "# take the averages of values in columns g1-g11; since the values are between 0 and 1, this gives the percentage of subjects with the genetic marker \n",
    "aveg1 = data1[\"g1\"].mean()\n",
    "aveg2 = data1[\"g2\"].mean()\n",
    "aveg3 = data1[\"g3\"].mean()\n",
    "aveg4 = data1[\"g4\"].mean()\n",
    "aveg5 = data1[\"g5\"].mean()\n",
    "aveg6 = data1[\"g6\"].mean()\n",
    "aveg7 = data1[\"g7\"].mean()\n",
    "aveg8 = data1[\"g8\"].mean()\n",
    "aveg9 = data1[\"g9\"].mean()\n",
    "aveg10 = data1[\"g10\"].mean()\n",
    "aveg11 = data1[\"g11\"].mean()\n",
    "\n",
    "# create arrays of labels for genetic markers and corresponding values\n",
    "names = [\"g1\",\"g2\",\"g3\",\"g4\",\"g5\",\"g6\",\"g7\",\"g8\",\"g9\",\"g10\",\"g11\"]\n",
    "values = [aveg1,aveg2,aveg3,aveg4,aveg5,aveg6,aveg7,aveg8,aveg9,aveg10,aveg11]\n",
    "\n",
    "#Plots incidence of genetic marker on a bar graph\n",
    "plt.rcParams[\"figure.figsize\"] = [5.5,4]\n",
    "fig, ax = plt.subplots()\n",
    "plt.bar(names, values, color='b')\n",
    "\n",
    "# Sets axis labels\n",
    "ax.set_xlabel('Genetic Indicator', fontsize = 14)\n",
    "ax.set_ylabel(\"Percentage of Subjects with Genetic Indicator\", fontsize = 10)\n",
    "\n",
    "# Sets graph title\n",
    "plt.title(\"Genetic Indicators and Cardiac Arrest\", fontsize = 18)\n",
    "\n",
    "fig.tight_layout()\n",
    "\n",
    "plt.show()"
   ]
  },
  {
   "cell_type": "code",
   "execution_count": 12,
   "metadata": {},
   "outputs": [
    {
     "data": {
      "text/plain": [
       "V1      False\n",
       "V2      False\n",
       "V3      False\n",
       "V4      False\n",
       "V5      False\n",
       "        ...  \n",
       "V496    False\n",
       "V497    False\n",
       "V498    False\n",
       "V499    False\n",
       "V500    False\n",
       "Length: 500, dtype: bool"
      ]
     },
     "execution_count": 12,
     "metadata": {},
     "output_type": "execute_result"
    }
   ],
   "source": [
    "# Checks if any values in the array has missing values\n",
    "pd.isnull(data2).any()"
   ]
  },
  {
   "cell_type": "code",
   "execution_count": 13,
   "metadata": {},
   "outputs": [
    {
     "data": {
      "image/png": "[encoded data removed]",
      "text/plain": [
       "<Figure size 576x288 with 1 Axes>"
      ]
     },
     "metadata": {
      "needs_background": "light"
     },
     "output_type": "display_data"
    }
   ],
   "source": [
    "# graphs row 1 of data2 as a line graph\n",
    "first_row = data2.iloc[0,:500]\n",
    "plt.rcParams[\"figure.figsize\"] = [8,4]\n",
    "fig, ax = plt.subplots()\n",
    "\n",
    "# Set axes labels\n",
    "ax.set_xlabel(\"Time\", fontsize = 14)\n",
    "ax.set_ylabel(\"Signal\", fontsize = 14)\n",
    "\n",
    "# Set Axis Limits\n",
    "ax.set_ylim(-4,4)\n",
    "\n",
    "# Set graph title\n",
    "plt.title(\"ECG Plot for Subject 1\", fontsize = 18)\n",
    "\n",
    "fig.tight_layout()\n",
    "\n",
    "first_row.plot()\n",
    "plt.show()"
   ]
  },
  {
   "cell_type": "code",
   "execution_count": 14,
   "metadata": {
    "scrolled": true
   },
   "outputs": [
    {
     "data": {
      "image/png": "[encoded data removed]",
      "text/plain": [
       "<Figure size 576x288 with 1 Axes>"
      ]
     },
     "metadata": {
      "needs_background": "light"
     },
     "output_type": "display_data"
    }
   ],
   "source": [
    "# graphs row 2 of data2 as a line graph\n",
    "second_row = data2.iloc[1,:500]\n",
    "plt.rcParams[\"figure.figsize\"] = [8,4]\n",
    "fig, ax = plt.subplots()\n",
    "\n",
    "# Set axes labels\n",
    "ax.set_xlabel(\"Time\", fontsize = 14)\n",
    "ax.set_ylabel(\"Signal\", fontsize = 14)\n",
    "\n",
    "# Set Axis Limits\n",
    "ax.set_ylim(-4,4)\n",
    "\n",
    "# Set graph title\n",
    "plt.title(\"ECG Plot for Subject 2\", fontsize = 18)\n",
    "\n",
    "fig.tight_layout()\n",
    "\n",
    "second_row.plot()\n",
    "plt.show()"
   ]
  },
  {
   "cell_type": "markdown",
   "metadata": {},
   "source": [
    "Plotting each subject's ECG data is tedious and would take a while to plot and look through. To make patterns in the ECG data more visible, we should take the average of each data point within the series and graph the new dataset."
   ]
  },
  {
   "cell_type": "code",
   "execution_count": 15,
   "metadata": {},
   "outputs": [
    {
     "data": {
      "text/html": [
       "<div>\n",
       "<style scoped>\n",
       "    .dataframe tbody tr th:only-of-type {\n",
       "        vertical-align: middle;\n",
       "    }\n",
       "\n",
       "    .dataframe tbody tr th {\n",
       "        vertical-align: top;\n",
       "    }\n",
       "\n",
       "    .dataframe thead th {\n",
       "        text-align: right;\n",
       "    }\n",
       "</style>\n",
       "<table border=\"1\" class=\"dataframe\">\n",
       "  <thead>\n",
       "    <tr style=\"text-align: right;\">\n",
       "      <th></th>\n",
       "      <th>Arrest</th>\n",
       "      <th>Age_y</th>\n",
       "      <th>g1</th>\n",
       "      <th>g2</th>\n",
       "      <th>g3</th>\n",
       "      <th>g4</th>\n",
       "      <th>g5</th>\n",
       "      <th>g6</th>\n",
       "      <th>g7</th>\n",
       "      <th>g8</th>\n",
       "      <th>...</th>\n",
       "      <th>V491</th>\n",
       "      <th>V492</th>\n",
       "      <th>V493</th>\n",
       "      <th>V494</th>\n",
       "      <th>V495</th>\n",
       "      <th>V496</th>\n",
       "      <th>V497</th>\n",
       "      <th>V498</th>\n",
       "      <th>V499</th>\n",
       "      <th>V500</th>\n",
       "    </tr>\n",
       "  </thead>\n",
       "  <tbody>\n",
       "    <tr>\n",
       "      <td>0</td>\n",
       "      <td>1</td>\n",
       "      <td>63</td>\n",
       "      <td>0</td>\n",
       "      <td>0</td>\n",
       "      <td>0</td>\n",
       "      <td>0</td>\n",
       "      <td>0</td>\n",
       "      <td>0</td>\n",
       "      <td>1</td>\n",
       "      <td>0</td>\n",
       "      <td>...</td>\n",
       "      <td>1.710186</td>\n",
       "      <td>1.315141</td>\n",
       "      <td>1.558143</td>\n",
       "      <td>1.188066</td>\n",
       "      <td>1.401991</td>\n",
       "      <td>1.469804</td>\n",
       "      <td>0.979407</td>\n",
       "      <td>1.496990</td>\n",
       "      <td>1.292152</td>\n",
       "      <td>1.389845</td>\n",
       "    </tr>\n",
       "    <tr>\n",
       "      <td>1</td>\n",
       "      <td>1</td>\n",
       "      <td>63</td>\n",
       "      <td>0</td>\n",
       "      <td>0</td>\n",
       "      <td>0</td>\n",
       "      <td>0</td>\n",
       "      <td>0</td>\n",
       "      <td>0</td>\n",
       "      <td>0</td>\n",
       "      <td>0</td>\n",
       "      <td>...</td>\n",
       "      <td>0.942037</td>\n",
       "      <td>1.075928</td>\n",
       "      <td>1.300646</td>\n",
       "      <td>1.035178</td>\n",
       "      <td>1.223987</td>\n",
       "      <td>1.183275</td>\n",
       "      <td>1.199120</td>\n",
       "      <td>0.655413</td>\n",
       "      <td>1.056601</td>\n",
       "      <td>0.971798</td>\n",
       "    </tr>\n",
       "    <tr>\n",
       "      <td>2</td>\n",
       "      <td>1</td>\n",
       "      <td>60</td>\n",
       "      <td>1</td>\n",
       "      <td>0</td>\n",
       "      <td>0</td>\n",
       "      <td>0</td>\n",
       "      <td>1</td>\n",
       "      <td>1</td>\n",
       "      <td>0</td>\n",
       "      <td>1</td>\n",
       "      <td>...</td>\n",
       "      <td>0.900975</td>\n",
       "      <td>0.747467</td>\n",
       "      <td>1.046727</td>\n",
       "      <td>1.108528</td>\n",
       "      <td>0.916690</td>\n",
       "      <td>1.061254</td>\n",
       "      <td>1.098566</td>\n",
       "      <td>1.436553</td>\n",
       "      <td>1.593959</td>\n",
       "      <td>1.615996</td>\n",
       "    </tr>\n",
       "    <tr>\n",
       "      <td>3</td>\n",
       "      <td>1</td>\n",
       "      <td>70</td>\n",
       "      <td>0</td>\n",
       "      <td>0</td>\n",
       "      <td>0</td>\n",
       "      <td>0</td>\n",
       "      <td>0</td>\n",
       "      <td>1</td>\n",
       "      <td>0</td>\n",
       "      <td>0</td>\n",
       "      <td>...</td>\n",
       "      <td>-0.473464</td>\n",
       "      <td>-0.363122</td>\n",
       "      <td>-0.550975</td>\n",
       "      <td>-0.689657</td>\n",
       "      <td>-0.620732</td>\n",
       "      <td>-0.372306</td>\n",
       "      <td>-0.742173</td>\n",
       "      <td>-0.411089</td>\n",
       "      <td>-0.923479</td>\n",
       "      <td>-0.769356</td>\n",
       "    </tr>\n",
       "    <tr>\n",
       "      <td>4</td>\n",
       "      <td>1</td>\n",
       "      <td>54</td>\n",
       "      <td>0</td>\n",
       "      <td>1</td>\n",
       "      <td>0</td>\n",
       "      <td>0</td>\n",
       "      <td>0</td>\n",
       "      <td>0</td>\n",
       "      <td>0</td>\n",
       "      <td>0</td>\n",
       "      <td>...</td>\n",
       "      <td>0.045517</td>\n",
       "      <td>-0.039422</td>\n",
       "      <td>0.117052</td>\n",
       "      <td>-0.021512</td>\n",
       "      <td>-0.046603</td>\n",
       "      <td>-0.233406</td>\n",
       "      <td>-0.222994</td>\n",
       "      <td>0.147450</td>\n",
       "      <td>-0.090553</td>\n",
       "      <td>0.211678</td>\n",
       "    </tr>\n",
       "  </tbody>\n",
       "</table>\n",
       "<p>5 rows × 513 columns</p>\n",
       "</div>"
      ],
      "text/plain": [
       "   Arrest  Age_y  g1  g2  g3  g4  g5  g6  g7  g8  ...      V491      V492  \\\n",
       "0       1     63   0   0   0   0   0   0   1   0  ...  1.710186  1.315141   \n",
       "1       1     63   0   0   0   0   0   0   0   0  ...  0.942037  1.075928   \n",
       "2       1     60   1   0   0   0   1   1   0   1  ...  0.900975  0.747467   \n",
       "3       1     70   0   0   0   0   0   1   0   0  ... -0.473464 -0.363122   \n",
       "4       1     54   0   1   0   0   0   0   0   0  ...  0.045517 -0.039422   \n",
       "\n",
       "       V493      V494      V495      V496      V497      V498      V499  \\\n",
       "0  1.558143  1.188066  1.401991  1.469804  0.979407  1.496990  1.292152   \n",
       "1  1.300646  1.035178  1.223987  1.183275  1.199120  0.655413  1.056601   \n",
       "2  1.046727  1.108528  0.916690  1.061254  1.098566  1.436553  1.593959   \n",
       "3 -0.550975 -0.689657 -0.620732 -0.372306 -0.742173 -0.411089 -0.923479   \n",
       "4  0.117052 -0.021512 -0.046603 -0.233406 -0.222994  0.147450 -0.090553   \n",
       "\n",
       "       V500  \n",
       "0  1.389845  \n",
       "1  0.971798  \n",
       "2  1.615996  \n",
       "3 -0.769356  \n",
       "4  0.211678  \n",
       "\n",
       "[5 rows x 513 columns]"
      ]
     },
     "execution_count": 15,
     "metadata": {},
     "output_type": "execute_result"
    }
   ],
   "source": [
    "#Joins data1 and data2 to create a single combined dataset\n",
    "data = data1.join(data2)\n",
    "data.head()"
   ]
  },
  {
   "cell_type": "code",
   "execution_count": 16,
   "metadata": {},
   "outputs": [],
   "source": [
    "# Normalize dataset to (-1,1)\n",
    "for c in data.columns: \n",
    "    if (c[0]=='g'):\n",
    "        data[c] = 2*data[c]-1"
   ]
  },
  {
   "cell_type": "code",
   "execution_count": 17,
   "metadata": {},
   "outputs": [],
   "source": [
    "# Separates data into two datasets: data_zero where subjects did not have cardiac arrest and data_one where subjects had cardiac arrest\n",
    "data_zero = data[data['Arrest']==0]\n",
    "data_one = data[data[\"Arrest\"]==1]"
   ]
  },
  {
   "cell_type": "code",
   "execution_count": 18,
   "metadata": {},
   "outputs": [],
   "source": [
    "# In order to graph line plots of data separated by whether or not the subject experienced cardiac arrest, we need a dataset of only cardiac arrest and ECG data\n",
    "# This is achieved by dropping all columns except \"Arrest\" and \"V0\"-\"V500\"\n",
    "data_zero_graph = data_zero.drop(columns = [\"Age_y\",\"g1\",\"g2\",\"g3\",\"g4\",\"g5\",\"g6\",\"g7\",\"g8\",\"g9\",\"g10\",\"g11\"])\n",
    "data_one_graph = data_one.drop(columns = [\"Age_y\",\"g1\",\"g2\",\"g3\",\"g4\",\"g5\",\"g6\",\"g7\",\"g8\",\"g9\",\"g10\",\"g11\"])"
   ]
  },
  {
   "cell_type": "code",
   "execution_count": 19,
   "metadata": {},
   "outputs": [],
   "source": [
    "# By averaging each column within both the data_zero_graph and data_one_graph datasets, we can get average graphs of cardiac arrest/non cardiac arrest subjects' ECG data\n",
    "data_zero_avg = data_zero_graph.mean()\n",
    "data_one_avg = data_one_graph.mean()"
   ]
  },
  {
   "cell_type": "code",
   "execution_count": 20,
   "metadata": {},
   "outputs": [
    {
     "data": {
      "image/png": "[encoded data removed]",
      "text/plain": [
       "<Figure size 576x288 with 1 Axes>"
      ]
     },
     "metadata": {
      "needs_background": "light"
     },
     "output_type": "display_data"
    }
   ],
   "source": [
    "#averaged line plot for subjects that didn't experiece cardiac arrest\n",
    "plt.rcParams[\"figure.figsize\"] = [8,4]\n",
    "fig, ax = plt.subplots()\n",
    "\n",
    "# Set axes labels\n",
    "ax.set_xlabel(\"Time\", fontsize = 14)\n",
    "ax.set_ylabel(\"Signal\", fontsize = 14)\n",
    "\n",
    "# Set Axis Limits\n",
    "ax.set_ylim(-0.4,0.4)\n",
    "\n",
    "# Set graph title\n",
    "plt.title(\"Average ECG Plot for Subjects that didn't Experience Cardiac Arrest\", fontsize = 18)\n",
    "\n",
    "fig.tight_layout()\n",
    "\n",
    "data_zero_avg.plot()\n",
    "plt.show()"
   ]
  },
  {
   "cell_type": "code",
   "execution_count": 21,
   "metadata": {
    "scrolled": true
   },
   "outputs": [
    {
     "data": {
      "image/png": "[encoded data removed]",
      "text/plain": [
       "<Figure size 576x288 with 1 Axes>"
      ]
     },
     "metadata": {
      "needs_background": "light"
     },
     "output_type": "display_data"
    }
   ],
   "source": [
    "#averaged line plot for subjects that experienced cardiac arrest\n",
    "plt.rcParams[\"figure.figsize\"] = [8,4]\n",
    "fig, ax = plt.subplots()\n",
    "\n",
    "# Set Axes Labels\n",
    "ax.set_xlabel(\"Time\", fontsize = 14)\n",
    "ax.set_ylabel(\"Signal\", fontsize = 14)\n",
    "\n",
    "# Set Axis Limits\n",
    "ax.set_ylim(-0.4,0.4)\n",
    "\n",
    "# Set graph title\n",
    "plt.title(\"Average ECG Plot for Subjects that Experienced Cardiac Arrest\", fontsize = 18)\n",
    "\n",
    "fig.tight_layout()\n",
    "\n",
    "data_one_avg.plot()\n",
    "plt.show()"
   ]
  },
  {
   "cell_type": "markdown",
   "metadata": {},
   "source": [
    "Based on the line graphs above, there are specific visual differences between average ECG graphs of subjects that experienced cardiac arrest and those who did not. The amplitude of the graph of those who experienced cardiac arrest is approximately 10% greater than the amplitude of those who did not experience cardiac arrest. There is also a less gradual incline/decline (smaller average slope) on the graph of subjects who experienced cardiac arrest. Furthermore, there are significant interruptions in the inclines and declines in the graph of those who experienced cardiac arrest; these interruptions are not present in the graph of subjects who did not experience cardiac arrest. While these graphs are not the best prediction tools since they are averages of the given data within each category and take into account outliers, they do still give a general visual idea of differences between the ECGs of cardiac arrest vs non cardiac arrest patients."
   ]
  },
  {
   "cell_type": "markdown",
   "metadata": {},
   "source": [
    "## Machine Learning Modeling\n",
    "To be able to make accurate predictions from this data, we should run it through at least a few models and compare the accuracies. It's always good to start with a couple of basic classifiers (such as Naive Bayes, k Nearest Neighbors, Logistic Regression, Decision Trees, etc.), and then move on to more complex models (such as neural networks). "
   ]
  },
  {
   "cell_type": "code",
   "execution_count": 22,
   "metadata": {},
   "outputs": [],
   "source": [
    "from sklearn.model_selection import train_test_split\n",
    "from sklearn.metrics import roc_auc_score\n",
    "from sklearn.metrics import accuracy_score\n",
    "from sklearn.metrics import classification_report"
   ]
  },
  {
   "cell_type": "code",
   "execution_count": 23,
   "metadata": {},
   "outputs": [],
   "source": [
    "# Separates data to predict arrest by creating a dataset of arrest values and another dataset of all the other information\n",
    "x = data.drop(columns = ['Arrest'])\n",
    "y = data ['Arrest']\n",
    "x_train, x_test, y_train, y_test = train_test_split(x,y,test_size=0.5)"
   ]
  },
  {
   "cell_type": "code",
   "execution_count": 24,
   "metadata": {},
   "outputs": [
    {
     "name": "stdout",
     "output_type": "stream",
     "text": [
      "Accuracy:  0.575\n",
      "AUROC:  0.46997442455242966\n",
      "              precision    recall  f1-score   support\n",
      "\n",
      "           0       0.60      0.81      0.69       115\n",
      "           1       0.50      0.26      0.34        85\n",
      "\n",
      "    accuracy                           0.57       200\n",
      "   macro avg       0.55      0.53      0.51       200\n",
      "weighted avg       0.56      0.57      0.54       200\n",
      "\n"
     ]
    }
   ],
   "source": [
    "# Run data through Naive Bayes Classifier\n",
    "from sklearn.naive_bayes import GaussianNB\n",
    "clf = GaussianNB(var_smoothing=1)\n",
    "clf.fit(x_train, y_train)\n",
    "\n",
    "pred = clf.predict(x_test)\n",
    "scores = clf.predict_proba(x_test)[:,1]\n",
    "\n",
    "print('Accuracy: ', accuracy_score(y_test, pred))\n",
    "print('AUROC: ', roc_auc_score(y_test, scores))\n",
    "print(classification_report(y_test, pred))"
   ]
  },
  {
   "cell_type": "markdown",
   "metadata": {},
   "source": [
    "The accuracy of applying Naive Bayes to this dataset isn't very good, so let's try a different classifier that may be more suited to the data."
   ]
  },
  {
   "cell_type": "code",
   "execution_count": 25,
   "metadata": {},
   "outputs": [
    {
     "name": "stdout",
     "output_type": "stream",
     "text": [
      "Accuracy:  0.78\n",
      "AUROC:  0.7940664961636829\n",
      "              precision    recall  f1-score   support\n",
      "\n",
      "           0       0.78      0.86      0.82       115\n",
      "           1       0.78      0.67      0.72        85\n",
      "\n",
      "    accuracy                           0.78       200\n",
      "   macro avg       0.78      0.77      0.77       200\n",
      "weighted avg       0.78      0.78      0.78       200\n",
      "\n"
     ]
    }
   ],
   "source": [
    "# Run data through K Nearest Neighbors classifier\n",
    "from sklearn import neighbors\n",
    "clf = neighbors.KNeighborsClassifier(n_neighbors=10, weights='distance')\n",
    "clf.fit(x_train, y_train)\n",
    "\n",
    "pred = clf.predict(x_test)\n",
    "scores = clf.predict_proba(x_test)[:,1]\n",
    "\n",
    "print('Accuracy: ', accuracy_score(y_test, pred))\n",
    "print('AUROC: ', roc_auc_score(y_test, scores))\n",
    "print(classification_report(y_test, pred))"
   ]
  },
  {
   "cell_type": "markdown",
   "metadata": {},
   "source": [
    "The accuracy of applying K Nearest Neighbors to this data is significantly better than the accuracy when it's run through Naive Bayes, but it's still not super accurate and wouldn't be a great prediction tool. Training a neural network would likely be a better way to train for more accurate predictions."
   ]
  },
  {
   "cell_type": "code",
   "execution_count": 26,
   "metadata": {},
   "outputs": [
    {
     "name": "stdout",
     "output_type": "stream",
     "text": [
      "<class 'pandas.core.frame.DataFrame'>\n",
      "<class 'pandas.core.series.Series'>\n"
     ]
    }
   ],
   "source": [
    "# Checks whether both x_train and y_train datasets are the same format\n",
    "print(type(x_train))\n",
    "print(type(y_train))"
   ]
  },
  {
   "cell_type": "code",
   "execution_count": 27,
   "metadata": {},
   "outputs": [],
   "source": [
    "# Since x_train and y_train are not the same format, y_train needs to be changed into a dataframe\n",
    "y_trainNN = y_train.to_frame().reset_index()"
   ]
  },
  {
   "cell_type": "code",
   "execution_count": 28,
   "metadata": {},
   "outputs": [
    {
     "name": "stdout",
     "output_type": "stream",
     "text": [
      "<class 'pandas.core.frame.DataFrame'>\n",
      "<class 'pandas.core.frame.DataFrame'>\n"
     ]
    }
   ],
   "source": [
    "# Now both x_train and y_trainNN are in the same format\n",
    "print(type(x_train))\n",
    "print(type(y_trainNN))"
   ]
  },
  {
   "cell_type": "code",
   "execution_count": 29,
   "metadata": {},
   "outputs": [],
   "source": [
    "# Converts both x_train and y_trainNN to numpy dataframes for ease of use within the neural network\n",
    "x_trainnp = x_train.to_numpy()\n",
    "y_trainnp = y_trainNN.to_numpy()"
   ]
  },
  {
   "cell_type": "code",
   "execution_count": 30,
   "metadata": {},
   "outputs": [
    {
     "name": "stdout",
     "output_type": "stream",
     "text": [
      "Train on 200 samples\n",
      "Epoch 1/10\n",
      "WARNING:tensorflow:Entity <function Function._initialize_uninitialized_variables.<locals>.initialize_variables at 0x7fde44193680> could not be transformed and will be executed as-is. Please report this to the AutoGraph team. When filing the bug, set the verbosity to 10 (on Linux, `export AUTOGRAPH_VERBOSITY=10`) and attach the full output. Cause: module 'gast' has no attribute 'Num'\n",
      "WARNING: Entity <function Function._initialize_uninitialized_variables.<locals>.initialize_variables at 0x7fde44193680> could not be transformed and will be executed as-is. Please report this to the AutoGraph team. When filing the bug, set the verbosity to 10 (on Linux, `export AUTOGRAPH_VERBOSITY=10`) and attach the full output. Cause: module 'gast' has no attribute 'Num'\n",
      "200/200 [==============================] - 1s 5ms/sample - loss: nan - accuracy: 0.9950\n",
      "Epoch 2/10\n",
      "200/200 [==============================] - 0s 190us/sample - loss: nan - accuracy: 0.9950\n",
      "Epoch 3/10\n",
      "200/200 [==============================] - 0s 115us/sample - loss: nan - accuracy: 0.9950\n",
      "Epoch 4/10\n",
      "200/200 [==============================] - 0s 138us/sample - loss: nan - accuracy: 0.9950\n",
      "Epoch 5/10\n",
      "200/200 [==============================] - 0s 138us/sample - loss: nan - accuracy: 0.9950\n",
      "Epoch 6/10\n",
      "200/200 [==============================] - 0s 126us/sample - loss: nan - accuracy: 0.9950\n",
      "Epoch 7/10\n",
      "200/200 [==============================] - 0s 160us/sample - loss: nan - accuracy: 0.9950\n",
      "Epoch 8/10\n",
      "200/200 [==============================] - 0s 182us/sample - loss: nan - accuracy: 0.9950\n",
      "Epoch 9/10\n",
      "200/200 [==============================] - 0s 189us/sample - loss: nan - accuracy: 0.9950\n",
      "Epoch 10/10\n",
      "200/200 [==============================] - ETA: 0s - loss: nan - accuracy: 1.000 - 0s 161us/sample - loss: nan - accuracy: 0.9950\n"
     ]
    },
    {
     "data": {
      "text/plain": [
       "<tensorflow.python.keras.callbacks.History at 0x7fde44166e50>"
      ]
     },
     "execution_count": 30,
     "metadata": {},
     "output_type": "execute_result"
    }
   ],
   "source": [
    "# Trains a neural network with 3 hidden layers\n",
    "from tensorflow.keras.models import Sequential\n",
    "from tensorflow.keras.layers import Dense\n",
    "\n",
    "model = Sequential()\n",
    "model.add(Dense(units=64, activation='relu'))\n",
    "\n",
    "model.add(Dense(units=32, activation='relu'))\n",
    "\n",
    "model.add(Dense(units=2, activation='softmax'))\n",
    "\n",
    "# Sigmoid function is used since data is normalized from -1 to 1\n",
    "model.compile(loss='categorical_crossentropy', optimizer='sgd', metrics=['accuracy'])\n",
    "model.fit(x_trainnp, y_trainnp, epochs=10, batch_size=16)"
   ]
  },
  {
   "cell_type": "markdown",
   "metadata": {},
   "source": [
    "Since the accuracy for the basic neural net is very high, there is little need to try running the data through another architecture unless more labeled data is introduced and a lower accuracy is achieved. "
   ]
  },
  {
   "cell_type": "markdown",
   "metadata": {},
   "source": [
    "While the model above achieves a high accuracy, there are certain computational costs that must be taken into account when utlising neural networks for data analysis. For instance, a large volume of data is needed to have a model with the desired accuracy, the volume of training vs test data should be distributed between both outcomes well enough to give an accurate model and accuracy measurement, and it is hard to determine which hyper-parameters would be the best for the network.\n",
    "\n",
    "Since timing is of the essence in this prediction problem, it is integral to assess whether continuous signal information is informative about the probability of experiencing cardiac arrest well before the onset time. While considering the continuous signal information led to a very accurate neural network, it is possible that not taking into account the continuous signal information or taking into account less, noncontinuous signal information would still lead to an accurate outcome. This question could be considered by training a recurrent neural network with the sequential data and averaging the predictions of that with the predictions of a neural network trained on the rest of the data to have a final prediction outcome based on both of those, while also being able to see the individual accuracies of models based on the time series data vs the non-sequential data. Another useful tool in helping predict the probability of a subject experiencing cardiac arrest that would be applicable well before the onset time is doing some feature engineering possibly with variance, frequency, range, and min/max values. "
   ]
  }
 ],
 "metadata": {
  "kernelspec": {
   "display_name": "Python 3",
   "language": "python",
   "name": "python3"
  },
  "language_info": {
   "codemirror_mode": {
    "name": "ipython",
    "version": 3
   },
   "file_extension": ".py",
   "mimetype": "text/x-python",
   "name": "python",
   "nbconvert_exporter": "python",
   "pygments_lexer": "ipython3",
   "version": "3.7.4"
  }
 },
 "nbformat": 4,
 "nbformat_minor": 2
}
