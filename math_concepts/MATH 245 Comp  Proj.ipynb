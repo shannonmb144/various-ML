{
 "cells": [
  {
   "cell_type": "markdown",
   "metadata": {},
   "source": [
    "# Math 245 Computer Project\n",
    "**Shannon Brownlee**\n",
    "- **Prof. Sergey Vladmimir Lototsky**\n",
    "- **Fall 2019**"
   ]
  },
  {
   "cell_type": "markdown",
   "metadata": {},
   "source": [
    "Solving the differential equation for y, you get y=e^(ax)+c. Using the initial condition of y(0)=1, it is found that y(x)=e^(ax)."
   ]
  },
  {
   "cell_type": "code",
   "execution_count": 61,
   "metadata": {},
   "outputs": [
    {
     "name": "stdout",
     "output_type": "stream",
     "text": [
      "Error when N = 10000, p = 1, a = 1, and lambda = 0.5: 8.353433787133824e-10\n"
     ]
    }
   ],
   "source": [
    "#Basic error when p = 1 and N is large\n",
    "import math\n",
    "\n",
    "a = 1\n",
    "Lambda = 0.5\n",
    "\n",
    "N = 10000\n",
    "\n",
    "# numerical solution\n",
    "y_numerical = [0]*(N+1)\n",
    "y_numerical[0] = 1\n",
    "\n",
    "# exact solution\n",
    "y_exact = [0]*(N+1)\n",
    "y_exact[0] = 1\n",
    "\n",
    "error = 0\n",
    "# loop: n is from 1 to N\n",
    "for n in range(1, N+1):\n",
    "    y_numerical[n] = (1+a*Lambda/N) / (1-a*(1-Lambda)/N)*y_numerical[n-1]\n",
    "    y_exact[n] = math.exp(a*n/N)\n",
    "    \n",
    "    # p = 1\n",
    "    error = error + abs(y_numerical[n] - y_exact[n])\n",
    "    \n",
    "error = error/N\n",
    "print(\"Error when N = 10000, p = 1, a = 1, and lambda = 0.5:\", error)"
   ]
  },
  {
   "cell_type": "code",
   "execution_count": 62,
   "metadata": {},
   "outputs": [
    {
     "name": "stdout",
     "output_type": "stream",
     "text": [
      "Error when N = 10, p = 1, a = 1, and lambda = 0.5: 1751387502709.1794\n"
     ]
    }
   ],
   "source": [
    "#Basic error when p=1 and N is small\n",
    "a = 1\n",
    "Lambda = 0.5\n",
    "\n",
    "N = 10\n",
    "\n",
    "# numerical solution\n",
    "y_numerical = [0]*(N+1)\n",
    "y_numerical[0] = 1\n",
    "\n",
    "# exact solution\n",
    "y_exact = [0]*(N+1)\n",
    "y_exact[0] = 1\n",
    "\n",
    "error = 0\n",
    "# loop: n is from 1 to N\n",
    "for n in range(1, N+1):\n",
    "    y_numerical[n] = (1+a*Lambda/N) / (1-a*(1-Lambda/N))*y_numerical[n-1]\n",
    "    y_exact[n] = math.exp(a*n/N)\n",
    "    \n",
    "    # p = 1\n",
    "    error = error + abs(y_numerical[n] - y_exact[n])\n",
    "    \n",
    "error = error/N\n",
    "print(\"Error when N = 10, p = 1, a = 1, and lambda = 0.5:\", error)"
   ]
  },
  {
   "cell_type": "markdown",
   "metadata": {},
   "source": [
    "**And so, it can be seen that as N-->infinity, the error-->0.**"
   ]
  },
  {
   "cell_type": "code",
   "execution_count": 91,
   "metadata": {},
   "outputs": [
    {
     "name": "stdout",
     "output_type": "stream",
     "text": [
      "When p = 1, lambda = 0.5, N=100000, and a = -100, error is 8.333320753337382e-10\n",
      "When p = 1, lambda = 0.5, N=100000, and a = -10, error is 8.334589884830624e-11\n",
      "When p = 1, lambda = 0.5, N=100000, and a = -1, error is 3.0879036216902022e-12\n",
      "When p = 1, lambda = 0.5, N=100000, and a = 1, error is 1.2532587723157463e-11\n",
      "When p = 1, lambda = 0.5, N=100000, and a = 10, error is 1.6558547943355954e-05\n",
      "When p = 1, lambda = 0.5, N=100000, and a = 100, error is 2.2188244800313354e+36\n"
     ]
    }
   ],
   "source": [
    "# CALCULATE ERROR WHEN P=1, LAMBDA = 0.5, N = 100000, AND A VARIES\n",
    "N = 100000\n",
    "# defines a function to calculate error when p = 1, lambda = 0.5, N=100000, and a is changing\n",
    "def simulation2(a, Lambda, N):\n",
    "    y_numerical = [0]*(N+1)\n",
    "    y_numerical[0] = 1\n",
    "    \n",
    "    y_exact = [0]*(N+1)\n",
    "    y_exact[0] = 1\n",
    "    \n",
    "    error = 0\n",
    "    for n in range(1, N+1):\n",
    "        y_numerical[n] = (1+a*Lambda/N) / (1-a*(1-Lambda)/N)*y_numerical[n-1]\n",
    "        y_exact[n] = math.exp(a*n/N)\n",
    "        \n",
    "        error = error + abs(y_numerical[n] - y_exact[n])\n",
    "        \n",
    "    error = error/N\n",
    "    return error\n",
    "\n",
    "# for different a\n",
    "for a in [-100,-10, -1, 1, 10, 100]:\n",
    "    print(\"When p = 1, lambda = 0.5, N=100000, and a = {}, error is {}\" .format(a,simulation2(a, 0.5, 100000)))"
   ]
  },
  {
   "cell_type": "code",
   "execution_count": 68,
   "metadata": {},
   "outputs": [
    {
     "name": "stdout",
     "output_type": "stream",
     "text": [
      "When p = infinity, lambda = 0.5, N=100000, y0=1, and a = -100, error is 3.065657760981111e-13\n",
      "When p = infinity, lambda = 0.5, N=100000, y0=1, and a = -10, error is 3.0676472473345484e-15\n",
      "When p = infinity, lambda = 0.5, N=100000, y0=1, and a = -1, error is 4.3022807538761753e-17\n",
      "When p = infinity, lambda = 0.5, N=100000, y0=1, and a = 1, error is 3.4074520982585456e-16\n",
      "When p = infinity, lambda = 0.5, N=100000, y0=1, and a = 10, error is 1.8397281746729277e-09\n",
      "When p = infinity, lambda = 0.5, N=100000, y0=1, and a = 100, error is 2.240105384251293e+33\n"
     ]
    }
   ],
   "source": [
    "# CALCULATE ERROR WHEN P=INFINITY, LAMBDA = 0.5, N = 100000, AND A VARIES\n",
    "N = 100000\n",
    "# define a function to simulate given specific parameters --> P = infinity\n",
    "def simulation(a, Lambda, N, y0):\n",
    "    y_numerical = [0]*(N+1)\n",
    "    y_numerical[0] = y0\n",
    "    \n",
    "    y_exact = [0]*(N+1)\n",
    "    y_exact[0] = y0\n",
    "    \n",
    "    error = 0\n",
    "    for n in range(1, N+1):\n",
    "        y_numerical[n] = (1+a*Lambda/N) / (1-a*(1-Lambda)/N)*y_numerical[n-1]\n",
    "        y_exact[n] = math.exp(a*n/N)\n",
    "        \n",
    "        error = max(error, abs(y_numerical[n] - y_exact[n]))\n",
    "        \n",
    "    error = error/N\n",
    "    return error\n",
    "\n",
    "# for different a\n",
    "for a in [-100,-10, -1, 1, 10, 100]:\n",
    "    print(\"When p = infinity, lambda = 0.5, N=100000, y0=1, and a = {}, error is {}\" .format(a,simulation(a, 0.5, 100000,1)))"
   ]
  },
  {
   "cell_type": "markdown",
   "metadata": {},
   "source": [
    "# Is it easier to approxmimate the error when a>0 or when a<0?\n",
    "- **Based on the printed errors in the two cells above, the error is overall smaller when a<0 than when a>0 since the errors when a is negative are significantly less than the errors when a is positive. The smallest error within this set of values is given when a = -1**"
   ]
  },
  {
   "cell_type": "code",
   "execution_count": 71,
   "metadata": {
    "scrolled": true
   },
   "outputs": [
    {
     "name": "stdout",
     "output_type": "stream",
     "text": [
      "Lambda is 0 and error is 1.8386311738838312e-07\n",
      "Lambda is 0.1 and error is 1.4709171795868058e-07\n",
      "Lambda is 0.2 and error is 1.1031664122534978e-07\n",
      "Lambda is 0.3 and error is 7.353788681363493e-08\n",
      "Lambda is 0.4 and error is 3.6755454349057804e-08\n",
      "Lambda is 0.5 and error is 3.065657760981111e-11\n",
      "Lambda is 0.6 and error is 3.682044634101267e-08\n",
      "Lambda is 0.7 and error is 7.361391518756477e-08\n",
      "Lambda is 0.8 and error is 1.1041106360726305e-07\n",
      "Lambda is 0.9 and error is 1.4721189192856697e-07\n",
      "Lambda is 1 and error is 1.8401640047882584e-07\n"
     ]
    }
   ],
   "source": [
    "# ERROR WHEN P=1, A=-1, AND LAMBDA VARIES\n",
    "\n",
    "N = 10000\n",
    "Lambda_values = [0, 0.1, 0.2, 0.3, 0.4, 0.5, 0.6, 0.7, 0.8, 0.9, 1]\n",
    "\n",
    "errors = []\n",
    "for Lambda in Lambda_values:\n",
    "    error = simulation(-1, Lambda, 1000, 1)\n",
    "    print('Lambda is {} and error is {}' .format(Lambda, error))\n",
    "    errors.append(error)"
   ]
  },
  {
   "cell_type": "code",
   "execution_count": 118,
   "metadata": {},
   "outputs": [
    {
     "data": {
      "image/png": "[encoded data removed]",
      "text/plain": [
       "<Figure size 432x288 with 1 Axes>"
      ]
     },
     "metadata": {
      "needs_background": "light"
     },
     "output_type": "display_data"
    }
   ],
   "source": [
    "import matplotlib.pyplot as plt\n",
    "\n",
    "fig, ax = plt.subplots()\n",
    "plt.plot(Lambda_values, errors)\n",
    "\n",
    "ax.set_xlabel('Lambda Values', fontsize = 14)\n",
    "ax.set_ylabel(\"Errors\", fontsize = 10)\n",
    "\n",
    "plt.title(\"Lambda Values vs. Error When a=-1\", fontsize = 18)\n",
    "\n",
    "fig.tight_layout()\n",
    "\n",
    "plt.show()\n"
   ]
  },
  {
   "cell_type": "markdown",
   "metadata": {},
   "source": [
    "# Is there a value of λ that you would consider the best choice?\n",
    "- **Based on the two cells and the graph above, it can be seen that 0.5 appears the be the best choice for lambda since that is where the error appears to be the smallest.**"
   ]
  },
  {
   "cell_type": "code",
   "execution_count": 82,
   "metadata": {},
   "outputs": [
    {
     "name": "stdout",
     "output_type": "stream",
     "text": [
      "Lambda is 0 and error is 1.766384825808931e-05\n",
      "Lambda is 0.1 and error is 1.4141320875024011e-05\n",
      "Lambda is 0.2 and error is 1.0583362269944053e-05\n",
      "Lambda is 0.3 and error is 6.98959173865632e-06\n",
      "Lambda is 0.4 and error is 3.359630288921389e-06\n",
      "Lambda is 0.5 and error is 3.068987885735952e-07\n",
      "Lambda is 0.6 and error is 4.010369300908923e-06\n",
      "Lambda is 0.7 and error is 7.751151481653007e-06\n",
      "Lambda is 0.8 and error is 1.1529611263688955e-05\n",
      "Lambda is 0.9 and error is 1.53461094919376e-05\n",
      "Lambda is 1 and error is 1.920100107144218e-05\n"
     ]
    }
   ],
   "source": [
    "# ERROR AND LAMBDA WHEN A=-100 AND P=1\n",
    "# for different Lambda, p = 1, a = -100\n",
    "\n",
    "N = 10000\n",
    "Lambda_values = [0, 0.1, 0.2, 0.3, 0.4, 0.5, 0.6, 0.7, 0.8, 0.9, 1]\n",
    "\n",
    "errors2 = []\n",
    "for Lambda in Lambda_values:\n",
    "    error = simulation(-100, Lambda, 1000, 1)\n",
    "    print('Lambda is {} and error is {}' .format(Lambda, error))\n",
    "    errors2.append(error)\n"
   ]
  },
  {
   "cell_type": "code",
   "execution_count": 119,
   "metadata": {
    "scrolled": true
   },
   "outputs": [
    {
     "data": {
      "image/png": "[encoded data removed]",
      "text/plain": [
       "<Figure size 432x288 with 1 Axes>"
      ]
     },
     "metadata": {
      "needs_background": "light"
     },
     "output_type": "display_data"
    }
   ],
   "source": [
    "# GRAPH OF LAMBDA VALUES VS ERROR FROM ABOVE\n",
    "fig, ax = plt.subplots()\n",
    "plt.plot(Lambda_values, errors2)\n",
    "\n",
    "ax.set_xlabel('Lambda Values', fontsize = 14)\n",
    "ax.set_ylabel(\"Errors\", fontsize = 10)\n",
    "\n",
    "plt.title(\"Lambda Values vs. Error When a=-100\", fontsize = 18)\n",
    "\n",
    "fig.tight_layout()\n",
    "plt.show()"
   ]
  },
  {
   "cell_type": "code",
   "execution_count": 101,
   "metadata": {},
   "outputs": [
    {
     "name": "stdout",
     "output_type": "stream",
     "text": [
      "Lambda is 0 and error is 0.00013212055882855768\n",
      "Lambda is 0.1 and error is 0.00010580476935487349\n",
      "Lambda is 0.2 and error is 7.656500327300215e-05\n",
      "Lambda is 0.3 and error is 4.3885264710910585e-05\n",
      "Lambda is 0.4 and error is 7.1205588285576105e-06\n",
      "Lambda is 0.5 and error is 3.454610783810902e-05\n",
      "Lambda is 0.6 and error is 8.216515545715658e-05\n",
      "Lambda is 0.7 and error is 0.00013711021040221154\n",
      "Lambda is 0.8 and error is 0.0002012127745047757\n",
      "Lambda is 0.9 and error is 0.00027697035026235143\n",
      "Lambda is 1 and error is 0.00036787944117144236\n"
     ]
    }
   ],
   "source": [
    "# ERROR AND LAMBDA WHEN A=-1000 AND P=1\n",
    "# for different Lambda, p = 1, a = -1000\n",
    "\n",
    "N = 10000\n",
    "Lambda_values = [0, 0.1, 0.2, 0.3, 0.4, 0.5, 0.6, 0.7, 0.8, 0.9, 1]\n",
    "\n",
    "errors3 = []\n",
    "for Lambda in Lambda_values:\n",
    "    error = simulation(-1000, Lambda, 1000, 1)\n",
    "    print('Lambda is {} and error is {}' .format(Lambda, error))\n",
    "    errors3.append(error)\n"
   ]
  },
  {
   "cell_type": "code",
   "execution_count": 120,
   "metadata": {
    "scrolled": true
   },
   "outputs": [
    {
     "data": {
      "image/png": "[encoded data removed]",
      "text/plain": [
       "<Figure size 432x288 with 1 Axes>"
      ]
     },
     "metadata": {
      "needs_background": "light"
     },
     "output_type": "display_data"
    }
   ],
   "source": [
    "# GRAPH OF LAMBDA VALUES VS ERROR FROM ABOVE\n",
    "fig, ax = plt.subplots()\n",
    "plt.plot(Lambda_values, errors3)\n",
    "\n",
    "ax.set_xlabel('Lambda Values', fontsize = 14)\n",
    "ax.set_ylabel(\"Errors\", fontsize = 10)\n",
    "\n",
    "plt.title(\"Lambda Values vs. Error When a=-1000\", fontsize = 18)\n",
    "\n",
    "fig.tight_layout()\n",
    "\n",
    "plt.show()\n"
   ]
  },
  {
   "cell_type": "code",
   "execution_count": 86,
   "metadata": {},
   "outputs": [
    {
     "name": "stdout",
     "output_type": "stream",
     "text": [
      "Lambda is 0 and error is 9.900990099009901e-06\n",
      "Lambda is 0.1 and error is 9.890109890109889e-05\n",
      "Lambda is 0.2 and error is 0.00023456790123456788\n",
      "Lambda is 0.3 and error is 0.0004084507042253521\n",
      "Lambda is 0.4 and error is 0.000639344262295082\n",
      "Lambda is 0.5 and error is 0.0009607843137254903\n",
      "Lambda is 0.6 and error is 1.169916651633916e+155\n",
      "Lambda is 0.7 and error is inf\n",
      "Lambda is 0.8 and error is inf\n",
      "Lambda is 0.9 and error is inf\n",
      "Lambda is 1 and error is inf\n"
     ]
    }
   ],
   "source": [
    "# ERROR AND LAMBDA WHEN A=-100000 AND P=1\n",
    "# for different Lambda, p = 1, a = -100000\n",
    "\n",
    "N = 10000\n",
    "Lambda_values = [0, 0.1, 0.2, 0.3, 0.4, 0.5, 0.6, 0.7, 0.8, 0.9, 1]\n",
    "\n",
    "errors4 = []\n",
    "for Lambda in Lambda_values:\n",
    "    error = simulation(-100000, Lambda, 1000, 1)\n",
    "    print('Lambda is {} and error is {}' .format(Lambda, error))\n",
    "    errors4.append(error)\n"
   ]
  },
  {
   "cell_type": "code",
   "execution_count": 127,
   "metadata": {},
   "outputs": [
    {
     "data": {
      "image/png": "[encoded data removed]",
      "text/plain": [
       "<Figure size 432x288 with 1 Axes>"
      ]
     },
     "metadata": {
      "needs_background": "light"
     },
     "output_type": "display_data"
    }
   ],
   "source": [
    "# GRAPH OF LAMBDA VALUES VS ERROR FROM ABOVE\n",
    "fig, ax = plt.subplots()\n",
    "plt.plot(Lambda_values, errors4)\n",
    "\n",
    "ax.set_xlabel('Lambda Values', fontsize = 14)\n",
    "ax.set_ylabel(\"Errors\", fontsize = 10)\n",
    "\n",
    "plt.title(\"Lambda Values vs. Error When a=-100000\", fontsize = 14)\n",
    "\n",
    "fig.tight_layout()\n",
    "\n",
    "plt.show()\n"
   ]
  },
  {
   "cell_type": "code",
   "execution_count": 95,
   "metadata": {},
   "outputs": [
    {
     "name": "stdout",
     "output_type": "stream",
     "text": [
      "Lambda is 0 and error is 1.1370993087853603\n",
      "Lambda is 0.1 and error is 0.9045341900936401\n",
      "Lambda is 0.2 and error is 0.674763590300663\n",
      "Lambda is 0.3 and error is 0.447748884494973\n",
      "Lambda is 0.4 and error is 0.22345204735426524\n",
      "Lambda is 0.5 and error is 0.0018356428311235504\n",
      "Lambda is 0.6 and error is 0.21713718590051212\n",
      "Lambda is 0.7 and error is 0.4335027263829652\n",
      "Lambda is 0.8 and error is 0.6472967065700214\n",
      "Lambda is 0.9 and error is 0.8585543043653634\n",
      "Lambda is 1 and error is 1.0673101569928913\n"
     ]
    }
   ],
   "source": [
    "# ERROR AND LAMBDA WHEN A=10 AND P=1\n",
    "# for different Lambda, p = 1, a = 10\n",
    "\n",
    "N = 10000\n",
    "Lambda_values = [0, 0.1, 0.2, 0.3, 0.4, 0.5, 0.6, 0.7, 0.8, 0.9, 1]\n",
    "\n",
    "errors5 = []\n",
    "for Lambda in Lambda_values:\n",
    "    error = simulation(10, Lambda, 1000,1)\n",
    "    print('Lambda is {} and error is {}' .format(Lambda, error))\n",
    "    errors5.append(error)\n"
   ]
  },
  {
   "cell_type": "code",
   "execution_count": 125,
   "metadata": {},
   "outputs": [
    {
     "data": {
      "image/png": "[encoded data removed]",
      "text/plain": [
       "<Figure size 432x288 with 1 Axes>"
      ]
     },
     "metadata": {
      "needs_background": "light"
     },
     "output_type": "display_data"
    }
   ],
   "source": [
    "# GRAPH OF LAMBDA VS ERROR FROM ABOVE\n",
    "fig, ax = plt.subplots()\n",
    "plt.plot(Lambda_values, errors5)\n",
    "\n",
    "ax.set_xlabel('Lambda Values', fontsize = 14)\n",
    "ax.set_ylabel(\"Errors\", fontsize = 10)\n",
    "\n",
    "plt.title(\"Lambda Values vs. Error When a=10\", fontsize = 16)\n",
    "\n",
    "fig.tight_layout()\n",
    "\n",
    "plt.show()"
   ]
  },
  {
   "cell_type": "code",
   "execution_count": 99,
   "metadata": {},
   "outputs": [
    {
     "name": "stdout",
     "output_type": "stream",
     "text": [
      "Lambda is 0 and error is 5.694364023355046e+42\n",
      "Lambda is 0.1 and error is 1.8784982110971093e+42\n",
      "Lambda is 0.2 and error is 6.22267864383587e+41\n",
      "Lambda is 0.3 and error is 1.9920612016235808e+41\n",
      "Lambda is 0.4 and error is 5.3561354494965625e+40\n",
      "Lambda is 0.5 and error is 2.3397415723765358e+39\n",
      "Lambda is 0.6 and error is 1.6051077440773515e+40\n",
      "Lambda is 0.7 and error is 2.27881556385385e+40\n",
      "Lambda is 0.8 and error is 2.5304722893364527e+40\n",
      "Lambda is 0.9 and error is 2.6262723199316465e+40\n",
      "Lambda is 1 and error is 2.6634178126360755e+40\n"
     ]
    }
   ],
   "source": [
    "# ERROR AND LAMBDA WHEN A=100 AND P=1\n",
    "# for different Lambda, p = 1, a = 100\n",
    "\n",
    "N = 10000\n",
    "Lambda_values = [0, 0.1, 0.2, 0.3, 0.4, 0.5, 0.6, 0.7, 0.8, 0.9, 1]\n",
    "\n",
    "errors6 = []\n",
    "for Lambda in Lambda_values:\n",
    "    error = simulation(100, Lambda, 1000, 1)\n",
    "    print('Lambda is {} and error is {}' .format(Lambda, error))\n",
    "    errors6.append(error)\n"
   ]
  },
  {
   "cell_type": "code",
   "execution_count": 124,
   "metadata": {},
   "outputs": [
    {
     "data": {
      "image/png": "[encoded data removed]",
      "text/plain": [
       "<Figure size 432x288 with 1 Axes>"
      ]
     },
     "metadata": {
      "needs_background": "light"
     },
     "output_type": "display_data"
    }
   ],
   "source": [
    "# GRAPH OF LAMBDA VS ERROR FROM ABOVE\n",
    "fig, ax = plt.subplots()\n",
    "plt.plot(Lambda_values, errors6)\n",
    "\n",
    "ax.set_xlabel('Lambda Values', fontsize = 14)\n",
    "ax.set_ylabel(\"Errors\", fontsize = 10)\n",
    "\n",
    "plt.title(\"Lambda Values vs. Error When a=100\", fontsize = 16)\n",
    "\n",
    "fig.tight_layout()\n",
    "\n",
    "plt.show()\n"
   ]
  },
  {
   "cell_type": "markdown",
   "metadata": {},
   "source": [
    "# How does this best value of lambda depend on a ?\n",
    "- **Based on the graphs above of lambda vs error, the best value of lambda changes when a is <=-1000 and when a is >=100. These values are estimated, however, since not all possible values of a were used to determine lambda for these graphs.**"
   ]
  },
  {
   "cell_type": "markdown",
   "metadata": {},
   "source": [
    "**Cells below find relative error**"
   ]
  },
  {
   "cell_type": "code",
   "execution_count": 104,
   "metadata": {},
   "outputs": [
    {
     "name": "stdout",
     "output_type": "stream",
     "text": [
      "Lambda: 0.5, a: -5, P: 1 and error: 0.004017750350926153\n",
      "Lambda: 0.5, a: -5, P: 10 and error: 0.006545754328214295\n",
      "Lambda: 0.5, a: -5, P: 100 and error: 0.007700086716278138\n"
     ]
    }
   ],
   "source": [
    "# ESTABLISHING SIMULATION3 AND ABSOLUTE ERROR WHEN A=-5,LAMBDA=0.5, AND P VARIES\n",
    "N = 100000\n",
    "a = -5\n",
    "# define a function to simulate given specific parameters\n",
    "def simulation3(a, Lambda, N, p):\n",
    "    y_numerical = [0]*(N+1)\n",
    "    y_numerical[0] = 1\n",
    "    \n",
    "    y_exact = [0]*(N+1)\n",
    "    y_exact[0] = 1\n",
    "    \n",
    "    error = 0\n",
    "    for n in range(1, N+1):\n",
    "        y_numerical[n] = (1+a*Lambda/N) / (1-a*(1-Lambda)/N)*y_numerical[n-1]\n",
    "        y_exact[n] = math.exp(a*n/N)\n",
    "        \n",
    "        error = error + abs(y_numerical[n] - y_exact[n])**p\n",
    "        \n",
    "    error = error/N\n",
    "    error = error**(1.0/p)\n",
    "    return error\n",
    "# for different a\n",
    "for p in [1, 10, 100]:\n",
    "    print('Lambda: 0.5, a: -5, P: {} and error: {}' .format (p, simulation3(-5, 0.5, 10, p)))"
   ]
  },
  {
   "cell_type": "code",
   "execution_count": 139,
   "metadata": {},
   "outputs": [
    {
     "name": "stdout",
     "output_type": "stream",
     "text": [
      "Relative Error:8.090320509323883e-09, Absolute error:5.451215079743848e-07\n"
     ]
    }
   ],
   "source": [
    "# SHOWING RELATIVE ERROR WHEN A=-5,LAMBDA=0.5, N=1000, X=10000 AND P=4\n",
    "from math import e\n",
    "a = -5\n",
    "x = 10000\n",
    "# p =4, a = -5, x = 10,000, lambda = 0.5\n",
    "\n",
    "rel_error = simulation3(-5,0.5,1000,4)/(e**a*x)\n",
    "print(\"Relative Error:{}, Absolute error:{}\" .format (rel_error,simulation3(-5,0.5,1000,4)))"
   ]
  },
  {
   "cell_type": "code",
   "execution_count": 140,
   "metadata": {},
   "outputs": [
    {
     "name": "stdout",
     "output_type": "stream",
     "text": [
      "Relative Error:5.934400158946973e-09, Absolute error:3.9985673742349085e-07\n"
     ]
    }
   ],
   "source": [
    "# SHOWING RELATIVE ERROR WHEN A=-5,LAMBDA=0.5, N=1000, X=10000 AND P=1\n",
    "a = -5\n",
    "x = 10000\n",
    "# p =1, a = -5, x = 10,000, lambda = 0.5\n",
    "\n",
    "rel_error = simulation3(-5,0.5,1000,1)/(e**a*x)\n",
    "print(\"Relative Error:{}, Absolute error:{}\" .format (rel_error,simulation3(-5,0.5,1000,1)))"
   ]
  },
  {
   "cell_type": "code",
   "execution_count": 141,
   "metadata": {},
   "outputs": [
    {
     "name": "stdout",
     "output_type": "stream",
     "text": [
      "Relative Error:9.469163219386206e-09, Absolute error:6.380271989791379e-07\n"
     ]
    }
   ],
   "source": [
    "# SHOWING RELATIVE ERROR WHEN A=-5,LAMBDA=0.5, N=1000, X=10000 AND P=10\n",
    "a = -5\n",
    "x = 10000\n",
    "# p =10, a = -5, x = 10,000, lambda = 0.5\n",
    "\n",
    "rel_error = simulation3(-5,0.5,1000,10)/(e**a*x)\n",
    "print(\"Relative Error:{}, Absolute error:{}\" .format (rel_error,simulation3(-5,0.5,1000,10)))"
   ]
  },
  {
   "cell_type": "code",
   "execution_count": 143,
   "metadata": {},
   "outputs": [
    {
     "name": "stdout",
     "output_type": "stream",
     "text": [
      "Relative Error:0.0, Absolute error:0.0\n"
     ]
    }
   ],
   "source": [
    "# SHOWING RELATIVE ERROR WHEN A=-5,LAMBDA=0.5, N=1000, X=10000 AND P=100\n",
    "a = -5\n",
    "x = 10000\n",
    "# p =100, a = -5, x = 10,000, lambda = 0.5\n",
    "\n",
    "rel_error = simulation3(-5,0.5,1000,100)/(e**a*x)\n",
    "print(\"Relative Error:{}, Absolute error:{}\" .format (rel_error,simulation3(-5,0.5,1000,100)))"
   ]
  },
  {
   "cell_type": "markdown",
   "metadata": {},
   "source": [
    "# How does the method of determining error affect the results?\n",
    "**Looking at absolute vs relative error in the cells in the section above (as well as the section before), the relative error appears to be significantly smaller (~100x) than the absolute error. This is likely because the actual value of the equation is in the denominator and is a rather small number. This relative error is a more an uncertainty-type value and is useful, but in the context of this problem I would argue that the absolute error is a more useful metric for determining the accuracy of the error approxmination since it gives the actual difference between the expected and true values rather than a percentage of how much the absolute error is compared to the general solution.**"
   ]
  }
 ],
 "metadata": {
  "kernelspec": {
   "display_name": "Python 3",
   "language": "python",
   "name": "python3"
  },
  "language_info": {
   "codemirror_mode": {
    "name": "ipython",
    "version": 3
   },
   "file_extension": ".py",
   "mimetype": "text/x-python",
   "name": "python",
   "nbconvert_exporter": "python",
   "pygments_lexer": "ipython3",
   "version": "3.7.4"
  }
 },
 "nbformat": 4,
 "nbformat_minor": 2
}
